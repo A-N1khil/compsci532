{
 "cells": [
  {
   "cell_type": "code",
   "id": "initial_id",
   "metadata": {
    "collapsed": true,
    "ExecuteTime": {
     "end_time": "2024-10-10T20:25:34.358195Z",
     "start_time": "2024-10-10T20:25:34.352633Z"
    }
   },
   "source": [
    "from pyspark.sql import SparkSession\n",
    "import assignment3.data_cleaner as dc\n",
    "import importlib\n",
    "\n",
    "# from pyspark.sql.functions"
   ],
   "outputs": [
    {
     "data": {
      "text/plain": [
       "<module 'assignment3.data_cleaner' from '/Users/nikanand/developer/repos/compsci532/assignment3/data_cleaner.py'>"
      ]
     },
     "execution_count": 11,
     "metadata": {},
     "output_type": "execute_result"
    }
   ],
   "execution_count": 11
  },
  {
   "metadata": {
    "ExecuteTime": {
     "end_time": "2024-10-10T20:28:49.619802Z",
     "start_time": "2024-10-10T20:28:49.468212Z"
    }
   },
   "cell_type": "code",
   "source": [
    "# Reload the module\n",
    "importlib.reload(dc)\n",
    "\n",
    "# Create a spark session and load text file\n",
    "spark = SparkSession.builder.appName(\"word_pairs\").getOrCreate()\n",
    "hamlet_df = spark.read.text(\"hamlet.txt\").cache()\n",
    "# from pyspark.sql.functions import lower\n",
    "# hamlet_df.select(lower(hamlet_df.value).alias('word')).show()\n",
    "# # Clean the dataframe\n",
    "hamlet_df = dc.clean_dataset(hamlet_df, False)\n",
    "hamlet_df.show()"
   ],
   "id": "292f31b036bbfa99",
   "outputs": [
    {
     "name": "stdout",
     "output_type": "stream",
     "text": [
      "+--------------------+\n",
      "|                word|\n",
      "+--------------------+\n",
      "|              hamlet|\n",
      "|   prince of denmark|\n",
      "|               act i|\n",
      "|scene ielsinore a...|\n",
      "|francisco on his ...|\n",
      "|      ber whos there|\n",
      "|fran r nay answer...|\n",
      "|ber long live the...|\n",
      "|                fran|\n",
      "|            bernardo|\n",
      "|                 ber|\n",
      "|                  he|\n",
      "|fran you come mos...|\n",
      "|ber tis now struc...|\n",
      "|fran for this rel...|\n",
      "|and i am sick at ...|\n",
      "|ber have you had ...|\n",
      "|                fran|\n",
      "|not a mouse stirring|\n",
      "| ber well good night|\n",
      "+--------------------+\n",
      "only showing top 20 rows\n",
      "\n"
     ]
    }
   ],
   "execution_count": 18
  },
  {
   "metadata": {},
   "cell_type": "code",
   "outputs": [],
   "execution_count": null,
   "source": "",
   "id": "e61cce8aeb718281"
  }
 ],
 "metadata": {
  "kernelspec": {
   "display_name": "Python 3",
   "language": "python",
   "name": "python3"
  },
  "language_info": {
   "codemirror_mode": {
    "name": "ipython",
    "version": 2
   },
   "file_extension": ".py",
   "mimetype": "text/x-python",
   "name": "python",
   "nbconvert_exporter": "python",
   "pygments_lexer": "ipython2",
   "version": "2.7.6"
  }
 },
 "nbformat": 4,
 "nbformat_minor": 5
}
